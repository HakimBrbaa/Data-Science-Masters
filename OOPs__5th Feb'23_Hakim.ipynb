{
 "cells": [
  {
   "cell_type": "markdown",
   "id": "bce76d00",
   "metadata": {},
   "source": [
    "# Data Science Masters\n",
    "## OOPS_Assignment_5th Feb'23\n",
    "### Name: Hakim Brbaa"
   ]
  },
  {
   "cell_type": "markdown",
   "id": "006a1b5d",
   "metadata": {},
   "source": [
    "#####"
   ]
  },
  {
   "cell_type": "markdown",
   "id": "ebd01551",
   "metadata": {},
   "source": [
    "##### Q#1. Explain Class and Object with respect to Object-Oriented Programming. Give a suitable example.\n",
    "\n",
    "Class and Object are the two fundamental concepts in Object-Oriented Programming (OOP). A class is a blueprint for creating objects (a particular data structure), providing initial values for state (member variables or attributes), and implementations of behavior (member functions or methods). An object is an instance of a class, created at runtime, with a unique identity and state, and behavior as defined in its class.\n",
    "\n",
    "For example, consider a class named \"Person\", which represents a person's name, age, and address. We can create multiple objects of this class, such as John, Sarah, and Alex, each having their own unique values for name, age, and address."
   ]
  },
  {
   "cell_type": "markdown",
   "id": "38742f78",
   "metadata": {},
   "source": [
    "##### Q#2. Name the four pillars of OOPs.\n",
    "\n",
    "1. Abstraction: Hides the implementation details and shows only the necessary information to the user.\n",
    "2. Encapsulation: Wraps the data and behavior into a single unit (object) and protects it from external access and modification.\n",
    "3. Inheritance: Allows creating a new class that is a modified version of an existing class, without changing the existing class.\n",
    "4. Polymorphism: Allows using a single entity to represent different types of objects, based on the context in which they are used."
   ]
  },
  {
   "cell_type": "markdown",
   "id": "e658aab8",
   "metadata": {},
   "source": [
    "##### Q#3. Explain why the __init__() function is used. Give a suitable example.\n",
    "\n",
    "The __init__ function is used in OOPs as a constructor for the class. It is called when an object of the class is created, and it allows the class to initialize its state. The __init__ method takes the first argument as \"self\", which refers to the newly created object itself.\n",
    "\n",
    "For example, consider a class named \"Person\", which has name, age, and address attributes. The __init__ function can be used to initialize these attributes as follows:"
   ]
  },
  {
   "cell_type": "code",
   "execution_count": 2,
   "id": "62eb6fcb",
   "metadata": {},
   "outputs": [],
   "source": [
    "class Person:\n",
    "    def __init__(self, name, age, address):\n",
    "        self.name = name\n",
    "        self.age = age\n",
    "        self.address = address\n"
   ]
  },
  {
   "cell_type": "markdown",
   "id": "74c66977",
   "metadata": {},
   "source": [
    "##### Q#4. Why self is used in OOPs?\n",
    "\n",
    "self is used in OOPs to refer to the instance of an object from within the object's methods. It allows the object's methods to access and modify the object's state. Without self, it would not be possible to determine which object's state is being referred to, as a class can be used to create multiple objects.\n",
    "\n",
    "For example, consider a class named \"Person\", which has name, age, and address attributes and a method named get_details:"
   ]
  },
  {
   "cell_type": "code",
   "execution_count": 4,
   "id": "cb9d4eb2",
   "metadata": {},
   "outputs": [],
   "source": [
    "class Person:\n",
    "    def __init__(self, name, age, address):\n",
    "        self.name = name\n",
    "        self.age = age\n",
    "        self.address = address\n",
    "\n",
    "    def get_details(self):\n",
    "        return f\"Name: {self.name}, Age: {self.age}, Address: {self.address}\"\n"
   ]
  },
  {
   "cell_type": "markdown",
   "id": "a7dde6af",
   "metadata": {},
   "source": [
    "##### Q#5. What is inheritance? Give an example for each type of inheritance.\n",
    "\n",
    "Inheritance is a mechanism in OOPs that allows creating a new class that is a modified version of an existing class, without changing the existing class. The new class is called the derived class, and the existing class is called the base class. Inheritance allows the derived class to inherit the attributes and behaviors of the base class, and to add or override the attributes and behaviors as necessary.\n",
    "\n",
    "There are several types of inheritance:\n",
    "\n",
    "1. Single Inheritance: A derived class inherits from a single base class.\n",
    "2. Multiple Inheritance: A derived class inherits from multiple base classes.\n",
    "3. Hierarchical Inheritance: Multiple derived classes inherit from a single base class.\n",
    "4. Multi-level Inheritance: A derived class inher"
   ]
  },
  {
   "cell_type": "markdown",
   "id": "127f4389",
   "metadata": {},
   "source": [
    "#####"
   ]
  },
  {
   "cell_type": "code",
   "execution_count": null,
   "id": "d44e71fc",
   "metadata": {},
   "outputs": [],
   "source": []
  }
 ],
 "metadata": {
  "kernelspec": {
   "display_name": "Python 3 (ipykernel)",
   "language": "python",
   "name": "python3"
  },
  "language_info": {
   "codemirror_mode": {
    "name": "ipython",
    "version": 3
   },
   "file_extension": ".py",
   "mimetype": "text/x-python",
   "name": "python",
   "nbconvert_exporter": "python",
   "pygments_lexer": "ipython3",
   "version": "3.9.13"
  }
 },
 "nbformat": 4,
 "nbformat_minor": 5
}
